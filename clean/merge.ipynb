{
 "cells": [
  {
   "cell_type": "code",
   "execution_count": 1,
   "metadata": {},
   "outputs": [],
   "source": [
    "from pyspark.sql.functions import lower, regexp_replace, regexp_extract, col, trim, when, instr, lit, split, size, avg, isnan, when, count, isnull, mean, coalesce\n",
    "from pyspark.sql.functions import concat_ws\n",
    "from pyspark.sql import Window"
   ]
  },
  {
   "cell_type": "code",
   "execution_count": 2,
   "metadata": {},
   "outputs": [
    {
     "name": "stderr",
     "output_type": "stream",
     "text": [
      "Setting default log level to \"WARN\".\n",
      "To adjust logging level use sc.setLogLevel(newLevel). For SparkR, use setLogLevel(newLevel).\n"
     ]
    },
    {
     "name": "stdout",
     "output_type": "stream",
     "text": [
      "23/02/11 21:19:25 WARN NativeCodeLoader: Unable to load native-hadoop library for your platform... using builtin-java classes where applicable\n"
     ]
    }
   ],
   "source": [
    "from pyspark.sql import SparkSession\n",
    "\n",
    "# Create a DataFrame using SparkSession\n",
    "spark = (SparkSession\n",
    "    .builder\n",
    "    .appName(\"merging\")\n",
    "    .getOrCreate())"
   ]
  },
  {
   "cell_type": "code",
   "execution_count": 3,
   "metadata": {},
   "outputs": [
    {
     "name": "stdout",
     "output_type": "stream",
     "text": [
      "23/02/11 21:19:40 WARN SparkSession: Using an existing Spark session; only runtime SQL configurations will take effect.\n",
      "23/02/11 21:19:40 WARN SparkSession: Using an existing Spark session; only runtime SQL configurations will take effect.\n",
      "23/02/11 21:19:40 WARN SparkSession: Using an existing Spark session; only runtime SQL configurations will take effect.\n"
     ]
    }
   ],
   "source": [
    "# some_file.py\n",
    "import sys\n",
    "# caution: path[0] is reserved for script path (or '' in REPL)\n",
    "sys.path.insert(1, '/home/jazzdung/E-Commerce-Support-System/script')\n",
    "\n",
    "import lazada_data, shopee_data, model_data"
   ]
  },
  {
   "cell_type": "code",
   "execution_count": 4,
   "metadata": {},
   "outputs": [
    {
     "name": "stderr",
     "output_type": "stream",
     "text": [
      "                                                                                \r"
     ]
    },
    {
     "name": "stdout",
     "output_type": "stream",
     "text": [
      "Succeed!\n"
     ]
    },
    {
     "name": "stderr",
     "output_type": "stream",
     "text": [
      "[Stage 1:>                                                          (0 + 1) / 1]\r"
     ]
    },
    {
     "name": "stdout",
     "output_type": "stream",
     "text": [
      "Succeed!\n",
      "root\n",
      " |-- product_name: string (nullable = true)\n",
      " |-- avg_rating: double (nullable = true)\n",
      " |-- price: integer (nullable = true)\n",
      " |-- brand: string (nullable = true)\n",
      " |-- num_review: integer (nullable = true)\n",
      " |-- attrs: string (nullable = true)\n",
      " |-- description: string (nullable = true)\n",
      " |-- url: string (nullable = true)\n",
      " |-- first_category: string (nullable = true)\n",
      " |-- second_category: string (nullable = false)\n",
      " |-- third_category: string (nullable = false)\n",
      " |-- shop_name: string (nullable = true)\n",
      " |-- shop_rating: double (nullable = true)\n",
      " |-- ship_on_time: double (nullable = true)\n",
      " |-- shop_reply_percectage: double (nullable = true)\n",
      "\n",
      "root\n",
      " |-- attrs: string (nullable = true)\n",
      " |-- avg_rating: string (nullable = true)\n",
      " |-- num_review: integer (nullable = true)\n",
      " |-- num_sold: integer (nullable = true)\n",
      " |-- price: string (nullable = true)\n",
      " |-- product_name: string (nullable = true)\n",
      " |-- shipping: string (nullable = true)\n",
      " |-- url: string (nullable = true)\n",
      " |-- country: string (nullable = true)\n",
      " |-- brand: string (nullable = true)\n",
      " |-- stock: string (nullable = true)\n",
      " |-- origin: string (nullable = true)\n",
      " |-- first_category: string (nullable = true)\n",
      " |-- second_category: string (nullable = false)\n",
      " |-- third_category: string (nullable = false)\n",
      " |-- description: string (nullable = true)\n",
      " |-- shop_name: string (nullable = true)\n",
      " |-- shop_like_tier: string (nullable = false)\n",
      " |-- shop_num_review: integer (nullable = true)\n",
      " |-- shop_reply_percentage: double (nullable = true)\n",
      " |-- shop_reply_time: string (nullable = true)\n",
      " |-- shop_creation_time: integer (nullable = true)\n",
      " |-- shop_num_follower: integer (nullable = true)\n",
      "\n"
     ]
    },
    {
     "name": "stderr",
     "output_type": "stream",
     "text": [
      "                                                                                \r"
     ]
    }
   ],
   "source": [
    "lazada_df = lazada_data.get_full_data('/home/jazzdung/Downloads/product_lazada.ndjson', '/home/jazzdung/data/lazada_full.csv')\n",
    "shopee_df = shopee_data.get_full_data('/home/jazzdung/Downloads/product_shopee.ndjson', '/home/jazzdung/data/shopee_full.csv')\n",
    "\n",
    "lazada_df.printSchema()\n",
    "shopee_df.printSchema()"
   ]
  },
  {
   "cell_type": "code",
   "execution_count": 5,
   "metadata": {},
   "outputs": [
    {
     "name": "stdout",
     "output_type": "stream",
     "text": [
      "root\n",
      " |-- product_name: string (nullable = true)\n",
      " |-- avg_rating: string (nullable = true)\n",
      " |-- price: string (nullable = true)\n",
      " |-- brand: string (nullable = true)\n",
      " |-- num_review: integer (nullable = true)\n",
      " |-- attrs: string (nullable = true)\n",
      " |-- description: string (nullable = true)\n",
      " |-- url: string (nullable = true)\n",
      " |-- first_category: string (nullable = true)\n",
      " |-- second_category: string (nullable = false)\n",
      " |-- third_category: string (nullable = false)\n",
      " |-- shop_name: string (nullable = true)\n",
      " |-- shop_rating: double (nullable = true)\n",
      " |-- ship_on_time: double (nullable = true)\n",
      " |-- shop_reply_percectage: double (nullable = true)\n",
      " |-- num_sold: integer (nullable = true)\n",
      " |-- shipping: string (nullable = true)\n",
      " |-- country: string (nullable = true)\n",
      " |-- stock: string (nullable = true)\n",
      " |-- origin: string (nullable = true)\n",
      " |-- shop_like_tier: string (nullable = true)\n",
      " |-- shop_num_review: integer (nullable = true)\n",
      " |-- shop_reply_percentage: double (nullable = true)\n",
      " |-- shop_reply_time: string (nullable = true)\n",
      " |-- shop_creation_time: integer (nullable = true)\n",
      " |-- shop_num_follower: integer (nullable = true)\n",
      "\n"
     ]
    }
   ],
   "source": [
    "model_df = lazada_df.unionByName(shopee_df, allowMissingColumns=True)\n",
    "model_df = model_data.grouping(model_df)\n",
    "# model_df.count()\n",
    "model_df.printSchema()\n",
    "# model_df.show(1000, truncate=False)"
   ]
  },
  {
   "cell_type": "code",
   "execution_count": 10,
   "metadata": {},
   "outputs": [
    {
     "ename": "AnalysisException",
     "evalue": "Cannot resolve column name \"num_sold\" among (product_name, avg_rating, price, brand, num_review, attrs, description, url, first_category, second_category, third_category, shop_name, shop_rating, ship_on_time, shop_reply_percectage)",
     "output_type": "error",
     "traceback": [
      "\u001b[0;31m---------------------------------------------------------------------------\u001b[0m",
      "\u001b[0;31mAnalysisException\u001b[0m                         Traceback (most recent call last)",
      "Cell \u001b[0;32mIn[10], line 17\u001b[0m\n\u001b[1;32m     13\u001b[0m     df \u001b[39m=\u001b[39m model_data\u001b[39m.\u001b[39mgrouping(df)\n\u001b[1;32m     15\u001b[0m     \u001b[39mreturn\u001b[39;00m df\n\u001b[0;32m---> 17\u001b[0m model_df_all_col \u001b[39m=\u001b[39m get_model_data_all_col(shopee_df, lazada_df)\n\u001b[1;32m     19\u001b[0m (model_df_all_col  \n\u001b[1;32m     20\u001b[0m     \u001b[39m.\u001b[39mcoalesce(\u001b[39m1\u001b[39m)\n\u001b[1;32m     21\u001b[0m     \u001b[39m.\u001b[39mwrite\u001b[39m.\u001b[39moption(\u001b[39m\"\u001b[39m\u001b[39mheader\u001b[39m\u001b[39m\"\u001b[39m, \u001b[39mTrue\u001b[39;00m)\n\u001b[1;32m     22\u001b[0m     \u001b[39m.\u001b[39mformat(\u001b[39m\"\u001b[39m\u001b[39mcsv\u001b[39m\u001b[39m\"\u001b[39m)\n\u001b[1;32m     23\u001b[0m     \u001b[39m.\u001b[39mmode(\u001b[39m'\u001b[39m\u001b[39moverwrite\u001b[39m\u001b[39m'\u001b[39m)\n\u001b[1;32m     24\u001b[0m     \u001b[39m.\u001b[39mcsv(\u001b[39m'\u001b[39m\u001b[39m/home/jazzdung/data/model_match_col.csv\u001b[39m\u001b[39m'\u001b[39m))\n\u001b[1;32m     25\u001b[0m \u001b[39m# model_df_func.count()\u001b[39;00m\n\u001b[1;32m     26\u001b[0m \u001b[39m# model_df_func.show(100, truncate=False)\u001b[39;00m\n\u001b[1;32m     27\u001b[0m \u001b[39m# model_df_func.select([c for c in model_df_func.columns if c not in {'product_name', 'description', 'url', 'attrs', 'name_description', 'augmented_description'}]).show(100, truncate=False)\u001b[39;00m\n",
      "Cell \u001b[0;32mIn[10], line 4\u001b[0m, in \u001b[0;36mget_model_data_all_col\u001b[0;34m(shopee_df, lazada_df)\u001b[0m\n\u001b[1;32m      1\u001b[0m \u001b[39mdef\u001b[39;00m \u001b[39mget_model_data_all_col\u001b[39m(shopee_df, lazada_df):\n\u001b[1;32m      2\u001b[0m \n\u001b[1;32m      3\u001b[0m     \u001b[39m# Load data\u001b[39;00m\n\u001b[0;32m----> 4\u001b[0m     df \u001b[39m=\u001b[39m shopee_df\u001b[39m.\u001b[39;49munionByName(lazada_df, allowMissingColumns\u001b[39m=\u001b[39;49m\u001b[39mFalse\u001b[39;49;00m)\n\u001b[1;32m      6\u001b[0m     df \u001b[39m=\u001b[39m model_data\u001b[39m.\u001b[39mfill_with_mean(df)\n\u001b[1;32m      7\u001b[0m     df \u001b[39m=\u001b[39m model_data\u001b[39m.\u001b[39mdrop_null_record(df)\n",
      "File \u001b[0;32m~/.local/lib/python3.10/site-packages/pyspark/sql/dataframe.py:2314\u001b[0m, in \u001b[0;36mDataFrame.unionByName\u001b[0;34m(self, other, allowMissingColumns)\u001b[0m\n\u001b[1;32m   2271\u001b[0m \u001b[39mdef\u001b[39;00m \u001b[39munionByName\u001b[39m(\u001b[39mself\u001b[39m, other: \u001b[39m\"\u001b[39m\u001b[39mDataFrame\u001b[39m\u001b[39m\"\u001b[39m, allowMissingColumns: \u001b[39mbool\u001b[39m \u001b[39m=\u001b[39m \u001b[39mFalse\u001b[39;00m) \u001b[39m-\u001b[39m\u001b[39m>\u001b[39m \u001b[39m\"\u001b[39m\u001b[39mDataFrame\u001b[39m\u001b[39m\"\u001b[39m:\n\u001b[1;32m   2272\u001b[0m     \u001b[39m\"\"\"Returns a new :class:`DataFrame` containing union of rows in this and another\u001b[39;00m\n\u001b[1;32m   2273\u001b[0m \u001b[39m    :class:`DataFrame`.\u001b[39;00m\n\u001b[1;32m   2274\u001b[0m \n\u001b[0;32m   (...)\u001b[0m\n\u001b[1;32m   2312\u001b[0m \u001b[39m       missing columns.\u001b[39;00m\n\u001b[1;32m   2313\u001b[0m \u001b[39m    \"\"\"\u001b[39;00m\n\u001b[0;32m-> 2314\u001b[0m     \u001b[39mreturn\u001b[39;00m DataFrame(\u001b[39mself\u001b[39;49m\u001b[39m.\u001b[39;49m_jdf\u001b[39m.\u001b[39;49munionByName(other\u001b[39m.\u001b[39;49m_jdf, allowMissingColumns), \u001b[39mself\u001b[39m\u001b[39m.\u001b[39msparkSession)\n",
      "File \u001b[0;32m~/.local/lib/python3.10/site-packages/py4j/java_gateway.py:1321\u001b[0m, in \u001b[0;36mJavaMember.__call__\u001b[0;34m(self, *args)\u001b[0m\n\u001b[1;32m   1315\u001b[0m command \u001b[39m=\u001b[39m proto\u001b[39m.\u001b[39mCALL_COMMAND_NAME \u001b[39m+\u001b[39m\\\n\u001b[1;32m   1316\u001b[0m     \u001b[39mself\u001b[39m\u001b[39m.\u001b[39mcommand_header \u001b[39m+\u001b[39m\\\n\u001b[1;32m   1317\u001b[0m     args_command \u001b[39m+\u001b[39m\\\n\u001b[1;32m   1318\u001b[0m     proto\u001b[39m.\u001b[39mEND_COMMAND_PART\n\u001b[1;32m   1320\u001b[0m answer \u001b[39m=\u001b[39m \u001b[39mself\u001b[39m\u001b[39m.\u001b[39mgateway_client\u001b[39m.\u001b[39msend_command(command)\n\u001b[0;32m-> 1321\u001b[0m return_value \u001b[39m=\u001b[39m get_return_value(\n\u001b[1;32m   1322\u001b[0m     answer, \u001b[39mself\u001b[39;49m\u001b[39m.\u001b[39;49mgateway_client, \u001b[39mself\u001b[39;49m\u001b[39m.\u001b[39;49mtarget_id, \u001b[39mself\u001b[39;49m\u001b[39m.\u001b[39;49mname)\n\u001b[1;32m   1324\u001b[0m \u001b[39mfor\u001b[39;00m temp_arg \u001b[39min\u001b[39;00m temp_args:\n\u001b[1;32m   1325\u001b[0m     temp_arg\u001b[39m.\u001b[39m_detach()\n",
      "File \u001b[0;32m~/.local/lib/python3.10/site-packages/pyspark/sql/utils.py:196\u001b[0m, in \u001b[0;36mcapture_sql_exception.<locals>.deco\u001b[0;34m(*a, **kw)\u001b[0m\n\u001b[1;32m    192\u001b[0m converted \u001b[39m=\u001b[39m convert_exception(e\u001b[39m.\u001b[39mjava_exception)\n\u001b[1;32m    193\u001b[0m \u001b[39mif\u001b[39;00m \u001b[39mnot\u001b[39;00m \u001b[39misinstance\u001b[39m(converted, UnknownException):\n\u001b[1;32m    194\u001b[0m     \u001b[39m# Hide where the exception came from that shows a non-Pythonic\u001b[39;00m\n\u001b[1;32m    195\u001b[0m     \u001b[39m# JVM exception message.\u001b[39;00m\n\u001b[0;32m--> 196\u001b[0m     \u001b[39mraise\u001b[39;00m converted \u001b[39mfrom\u001b[39;00m \u001b[39mNone\u001b[39m\n\u001b[1;32m    197\u001b[0m \u001b[39melse\u001b[39;00m:\n\u001b[1;32m    198\u001b[0m     \u001b[39mraise\u001b[39;00m\n",
      "\u001b[0;31mAnalysisException\u001b[0m: Cannot resolve column name \"num_sold\" among (product_name, avg_rating, price, brand, num_review, attrs, description, url, first_category, second_category, third_category, shop_name, shop_rating, ship_on_time, shop_reply_percectage)"
     ]
    }
   ],
   "source": [
    "def get_model_data_all_col(shopee_df, lazada_df):\n",
    "\n",
    "    # Load data\n",
    "    df = shopee_df.unionByName(lazada_df, allowMissingColumns=True)\n",
    "\n",
    "    df = model_data.fill_with_mean(df)\n",
    "    df = model_data.drop_null_record(df)\n",
    "    df = model_data.fill_with_blank(df)\n",
    "    df = model_data.fill_with_no_info(df)\n",
    "    df = model_data.concat_columns(df)\n",
    "    df = model_data.drop_redundant_columns(df)\n",
    "\n",
    "    df = model_data.grouping(df)\n",
    "    \n",
    "    return df\n",
    "\n",
    "model_df_all_col = get_model_data_all_col(shopee_df, lazada_df)\n",
    "\n",
    "(model_df_all_col  \n",
    "    .coalesce(1)\n",
    "    .write.option(\"header\", True)\n",
    "    .format(\"csv\")\n",
    "    .mode('overwrite')\n",
    "    .csv('/home/jazzdung/data/model_all_col.csv'))\n",
    "# model_df_func.count()\n",
    "# model_df_func.show(100, truncate=False)\n",
    "# model_df_func.select([c for c in model_df_func.columns if c not in {'product_name', 'description', 'url', 'attrs', 'name_description', 'augmented_description'}]).show(100, truncate=False)"
   ]
  },
  {
   "cell_type": "code",
   "execution_count": 16,
   "metadata": {},
   "outputs": [
    {
     "name": "stdout",
     "output_type": "stream",
     "text": [
      "root\n",
      " |-- price: string (nullable = true)\n",
      " |-- product_name: string (nullable = true)\n",
      " |-- brand: string (nullable = true)\n",
      " |-- first_category: string (nullable = false)\n",
      " |-- second_category: string (nullable = false)\n",
      " |-- third_category: string (nullable = false)\n",
      " |-- description: string (nullable = true)\n",
      " |-- shop_name: string (nullable = true)\n",
      " |-- shop_reply_percectage: double (nullable = true)\n",
      " |-- name_description: string (nullable = false)\n",
      " |-- augmented_description: string (nullable = false)\n",
      "\n",
      "23/02/11 21:46:17 WARN WindowExec: No Partition Defined for Window operation! Moving all data to a single partition, this can cause serious performance degradation.\n",
      "23/02/11 21:46:17 WARN WindowExec: No Partition Defined for Window operation! Moving all data to a single partition, this can cause serious performance degradation.\n"
     ]
    },
    {
     "name": "stderr",
     "output_type": "stream",
     "text": [
      "[Stage 11:=============================>                            (1 + 1) / 2]\r"
     ]
    },
    {
     "name": "stdout",
     "output_type": "stream",
     "text": [
      "23/02/11 21:46:20 WARN WindowExec: No Partition Defined for Window operation! Moving all data to a single partition, this can cause serious performance degradation.\n",
      "23/02/11 21:46:20 WARN WindowExec: No Partition Defined for Window operation! Moving all data to a single partition, this can cause serious performance degradation.\n"
     ]
    },
    {
     "name": "stderr",
     "output_type": "stream",
     "text": [
      "                                                                                \r"
     ]
    }
   ],
   "source": [
    "def get_model_data_match_col(shopee_df, lazada_df):\n",
    "\n",
    "    # Load data\n",
    "    df = shopee_df.unionByName(lazada_df, allowMissingColumns=True)\n",
    "\n",
    "    df = model_data.fill_with_mean(df)\n",
    "    df = model_data.drop_null_record(df)\n",
    "    df = model_data.fill_with_blank(df)\n",
    "    df = model_data.fill_with_no_info(df)\n",
    "    df = model_data.concat_columns(df)\n",
    "    df = model_data.drop_redundant_columns(df)\n",
    "\n",
    "    df = model_data.grouping(df)\n",
    "    df = df.drop(\"avg_rating\", \"num_review\", \"shop_rating\", \"ship_on_time\", \"country\", \"num_sold\", \"shipping\", \"stock\", \"origin\", \"shop_like_tier\", \"shop_num_review\", \"shop_reply_time\", \"shop_creation_time\", \"shop_num_follower\", \"shop_reply_percentage\")\n",
    "    \n",
    "    return df\n",
    "\n",
    "model_df_match_col = get_model_data_match_col(shopee_df, lazada_df)\n",
    "\n",
    "model_df_match_col.printSchema()\n",
    "# model_df_match_col.show(100, truncate=False)\n",
    "\n",
    "(model_df_match_col  \n",
    "    .coalesce(1)\n",
    "    .write.option(\"header\", True)\n",
    "    .format(\"csv\")\n",
    "    .mode('overwrite')\n",
    "    .csv('/home/jazzdung/data/model_match_col.csv'))"
   ]
  },
  {
   "cell_type": "code",
   "execution_count": null,
   "metadata": {},
   "outputs": [],
   "source": []
  }
 ],
 "metadata": {
  "kernelspec": {
   "display_name": "Python 3",
   "language": "python",
   "name": "python3"
  },
  "language_info": {
   "codemirror_mode": {
    "name": "ipython",
    "version": 3
   },
   "file_extension": ".py",
   "mimetype": "text/x-python",
   "name": "python",
   "nbconvert_exporter": "python",
   "pygments_lexer": "ipython3",
   "version": "3.10.6"
  },
  "orig_nbformat": 4,
  "vscode": {
   "interpreter": {
    "hash": "916dbcbb3f70747c44a77c7bcd40155683ae19c65e1c03b4aa3499c5328201f1"
   }
  }
 },
 "nbformat": 4,
 "nbformat_minor": 2
}
